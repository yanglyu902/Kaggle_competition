{
 "cells": [
  {
   "cell_type": "code",
   "execution_count": 1,
   "id": "2236c4f6",
   "metadata": {
    "execution": {
     "iopub.execute_input": "2022-01-24T08:41:49.218387Z",
     "iopub.status.busy": "2022-01-24T08:41:49.216914Z",
     "iopub.status.idle": "2022-01-24T08:41:51.671394Z",
     "shell.execute_reply": "2022-01-24T08:41:51.672592Z",
     "shell.execute_reply.started": "2022-01-24T08:37:25.057485Z"
    },
    "papermill": {
     "duration": 2.471924,
     "end_time": "2022-01-24T08:41:51.672943",
     "exception": false,
     "start_time": "2022-01-24T08:41:49.201019",
     "status": "completed"
    },
    "tags": []
   },
   "outputs": [],
   "source": [
    "import numpy as np\n",
    "import matplotlib.pyplot as plt\n",
    "import pandas as pd\n",
    "import torch\n",
    "from torch.utils.data import Dataset, DataLoader, TensorDataset\n",
    "import torch.nn.functional as F\n",
    "from torch import optim\n",
    "from torch import nn\n",
    "from tqdm import tqdm\n",
    "from sklearn.model_selection import KFold\n",
    "\n",
    "%matplotlib inline\n",
    "%config InlineBackend.figure_format = 'retina'"
   ]
  },
  {
   "cell_type": "code",
   "execution_count": 2,
   "id": "49de4213",
   "metadata": {
    "execution": {
     "iopub.execute_input": "2022-01-24T08:41:51.766036Z",
     "iopub.status.busy": "2022-01-24T08:41:51.765240Z",
     "iopub.status.idle": "2022-01-24T08:41:51.775936Z",
     "shell.execute_reply": "2022-01-24T08:41:51.775195Z",
     "shell.execute_reply.started": "2022-01-24T08:37:25.078254Z"
    },
    "papermill": {
     "duration": 0.081025,
     "end_time": "2022-01-24T08:41:51.776115",
     "exception": false,
     "start_time": "2022-01-24T08:41:51.695090",
     "status": "completed"
    },
    "tags": []
   },
   "outputs": [
    {
     "name": "stdout",
     "output_type": "stream",
     "text": [
      "cuda:0\n"
     ]
    }
   ],
   "source": [
    "# use GPU!\n",
    "if torch.cuda.is_available():\n",
    "    device = torch.device('cuda:0')\n",
    "else:\n",
    "    device = torch.device('cpu')\n",
    "print(device)"
   ]
  },
  {
   "cell_type": "code",
   "execution_count": 3,
   "id": "db358783",
   "metadata": {
    "execution": {
     "iopub.execute_input": "2022-01-24T08:41:51.823953Z",
     "iopub.status.busy": "2022-01-24T08:41:51.823213Z",
     "iopub.status.idle": "2022-01-24T08:42:00.223359Z",
     "shell.execute_reply": "2022-01-24T08:42:00.223924Z",
     "shell.execute_reply.started": "2022-01-24T08:37:25.091336Z"
    },
    "papermill": {
     "duration": 8.428619,
     "end_time": "2022-01-24T08:42:00.224132",
     "exception": false,
     "start_time": "2022-01-24T08:41:51.795513",
     "status": "completed"
    },
    "tags": []
   },
   "outputs": [
    {
     "name": "stdout",
     "output_type": "stream",
     "text": [
      "torch.Size([40000, 784])\n",
      "torch.Size([2000, 784])\n",
      "torch.Size([28000, 784])\n"
     ]
    }
   ],
   "source": [
    "# read data\n",
    "train = pd.read_csv('/kaggle/input/digit-recognizer/train.csv')\n",
    "test = pd.read_csv('/kaggle/input/digit-recognizer/test.csv')\n",
    "X, y = torch.FloatTensor(train.drop(['label'],axis=1).values), torch.tensor(train['label'].values)\n",
    "\n",
    "training_size = 40000\n",
    "X_train, y_train = X[:training_size], y[:training_size]\n",
    "X_val, y_val = X[training_size:], y[training_size:]\n",
    "X_test = torch.tensor(test.values)\n",
    "\n",
    "X_train, y_train, X_val, y_val, X_test = X_train.to(device), y_train.to(device), X_val.to(device), y_val.to(device), X_test.to(device).float()\n",
    "print(X_train.shape)\n",
    "print(X_val.shape)\n",
    "print(X_test.shape)"
   ]
  },
  {
   "cell_type": "code",
   "execution_count": 4,
   "id": "eb6f58f2",
   "metadata": {
    "execution": {
     "iopub.execute_input": "2022-01-24T08:42:00.256126Z",
     "iopub.status.busy": "2022-01-24T08:42:00.255339Z",
     "iopub.status.idle": "2022-01-24T08:42:00.486729Z",
     "shell.execute_reply": "2022-01-24T08:42:00.486265Z",
     "shell.execute_reply.started": "2022-01-24T08:37:29.169960Z"
    },
    "papermill": {
     "duration": 0.250801,
     "end_time": "2022-01-24T08:42:00.486848",
     "exception": false,
     "start_time": "2022-01-24T08:42:00.236047",
     "status": "completed"
    },
    "tags": []
   },
   "outputs": [
    {
     "data": {
      "image/png": "[encoded data removed]",
      "text/plain": [
       "<Figure size 432x288 with 1 Axes>"
      ]
     },
     "metadata": {
      "image/png": {
       "height": 263,
       "width": 251
      },
      "needs_background": "light"
     },
     "output_type": "display_data"
    }
   ],
   "source": [
    "# visualize one sample\n",
    "plt.imshow(X_train[8].reshape(28,28).cpu())\n",
    "plt.title(y_train[8].item())\n",
    "plt.show()"
   ]
  },
  {
   "cell_type": "code",
   "execution_count": 5,
   "id": "347b5097",
   "metadata": {
    "execution": {
     "iopub.execute_input": "2022-01-24T08:42:00.516058Z",
     "iopub.status.busy": "2022-01-24T08:42:00.515327Z",
     "iopub.status.idle": "2022-01-24T08:42:00.517667Z",
     "shell.execute_reply": "2022-01-24T08:42:00.517243Z",
     "shell.execute_reply.started": "2022-01-24T08:37:29.384689Z"
    },
    "papermill": {
     "duration": 0.018813,
     "end_time": "2022-01-24T08:42:00.517767",
     "exception": false,
     "start_time": "2022-01-24T08:42:00.498954",
     "status": "completed"
    },
    "tags": []
   },
   "outputs": [],
   "source": [
    "# make dataset and dataloader\n",
    "dataset_train = TensorDataset(X_train, y_train)\n",
    "dataset_val = TensorDataset(X_val, y_val)\n",
    "\n",
    "batch_size = 50\n",
    "dataloader_train = DataLoader(dataset_train, batch_size=batch_size, shuffle=True)\n",
    "dataloader_val = DataLoader(dataset_val, batch_size=batch_size, shuffle=False)"
   ]
  },
  {
   "cell_type": "code",
   "execution_count": 6,
   "id": "1db05cf1",
   "metadata": {
    "execution": {
     "iopub.execute_input": "2022-01-24T08:42:00.548540Z",
     "iopub.status.busy": "2022-01-24T08:42:00.547770Z",
     "iopub.status.idle": "2022-01-24T08:42:00.550144Z",
     "shell.execute_reply": "2022-01-24T08:42:00.549716Z",
     "shell.execute_reply.started": "2022-01-24T08:37:29.392195Z"
    },
    "papermill": {
     "duration": 0.02075,
     "end_time": "2022-01-24T08:42:00.550241",
     "exception": false,
     "start_time": "2022-01-24T08:42:00.529491",
     "status": "completed"
    },
    "tags": []
   },
   "outputs": [],
   "source": [
    "# build a CNN!\n",
    "class mnist_CNN(nn.Module):\n",
    "    def __init__(self):\n",
    "        super().__init__()\n",
    "        self.conv1 = nn.Conv2d(1, 6, kernel_size=3, stride=2, padding=1)\n",
    "        self.conv2 = nn.Conv2d(6, 16, kernel_size=3, stride=2, padding=1)\n",
    "        self.conv3 = nn.Conv2d(16, 10, kernel_size=3, stride=2, padding=1)\n",
    "    \n",
    "    def forward(self, xb):\n",
    "        xb = xb.view(-1, 1, 28, 28)\n",
    "        xb = F.relu(self.conv1(xb))\n",
    "        xb = F.relu(self.conv2(xb))\n",
    "        xb = F.relu(self.conv3(xb))\n",
    "        xb = F.avg_pool2d(xb, 4)\n",
    "        return xb.view(-1, xb.size(1))"
   ]
  },
  {
   "cell_type": "code",
   "execution_count": 7,
   "id": "f329e283",
   "metadata": {
    "execution": {
     "iopub.execute_input": "2022-01-24T08:42:00.580278Z",
     "iopub.status.busy": "2022-01-24T08:42:00.579660Z",
     "iopub.status.idle": "2022-01-24T08:42:00.589321Z",
     "shell.execute_reply": "2022-01-24T08:42:00.588890Z",
     "shell.execute_reply.started": "2022-01-24T08:37:29.403092Z"
    },
    "papermill": {
     "duration": 0.02754,
     "end_time": "2022-01-24T08:42:00.589443",
     "exception": false,
     "start_time": "2022-01-24T08:42:00.561903",
     "status": "completed"
    },
    "tags": []
   },
   "outputs": [],
   "source": [
    "# loss function \n",
    "loss_function = F.cross_entropy\n",
    "\n",
    "# instantiate model\n",
    "model = mnist_CNN().to(device)\n",
    "\n",
    "# optimizer for updating weights\n",
    "optimizer = optim.SGD(model.parameters(), lr=0.1, momentum=0.9)"
   ]
  },
  {
   "cell_type": "code",
   "execution_count": 8,
   "id": "4d922df6",
   "metadata": {
    "execution": {
     "iopub.execute_input": "2022-01-24T08:42:00.622160Z",
     "iopub.status.busy": "2022-01-24T08:42:00.621295Z",
     "iopub.status.idle": "2022-01-24T08:42:00.623118Z",
     "shell.execute_reply": "2022-01-24T08:42:00.623549Z",
     "shell.execute_reply.started": "2022-01-24T08:37:29.414443Z"
    },
    "papermill": {
     "duration": 0.021596,
     "end_time": "2022-01-24T08:42:00.623705",
     "exception": false,
     "start_time": "2022-01-24T08:42:00.602109",
     "status": "completed"
    },
    "tags": []
   },
   "outputs": [],
   "source": [
    "# let's train\n",
    "def training():\n",
    "    n_epochs = 30\n",
    "    train_loss = []\n",
    "    val_loss = []\n",
    "    iteration = []\n",
    "    for epoch in tqdm(range(n_epochs)):\n",
    "        iteration.append(epoch)\n",
    "\n",
    "        model.train()\n",
    "        for xb, yb in dataloader_train:\n",
    "            xb = xb.to(device)\n",
    "            yb = yb.to(device)\n",
    "\n",
    "            pred = model(xb)\n",
    "            loss = loss_function(pred, yb)\n",
    "\n",
    "            optimizer.zero_grad()\n",
    "            loss.backward()\n",
    "            optimizer.step()\n",
    "\n",
    "        model.eval()\n",
    "        with torch.no_grad():\n",
    "            train_loss.append(loss_function(model(X_train), y_train))\n",
    "            val_loss.append(loss_function(model(X_val), y_val))\n",
    "        \n",
    "    return model, train_loss, val_loss, iteration"
   ]
  },
  {
   "cell_type": "code",
   "execution_count": 9,
   "id": "f81e7558",
   "metadata": {
    "execution": {
     "iopub.execute_input": "2022-01-24T08:42:00.652354Z",
     "iopub.status.busy": "2022-01-24T08:42:00.651805Z",
     "iopub.status.idle": "2022-01-24T08:42:52.440146Z",
     "shell.execute_reply": "2022-01-24T08:42:52.440707Z",
     "shell.execute_reply.started": "2022-01-24T08:37:29.425970Z"
    },
    "papermill": {
     "duration": 51.805294,
     "end_time": "2022-01-24T08:42:52.440909",
     "exception": false,
     "start_time": "2022-01-24T08:42:00.635615",
     "status": "completed"
    },
    "tags": []
   },
   "outputs": [
    {
     "name": "stderr",
     "output_type": "stream",
     "text": [
      "100%|██████████| 30/30 [00:51<00:00,  1.73s/it]\n"
     ]
    }
   ],
   "source": [
    "trained_model_cnn, lt, lv, it = training()"
   ]
  },
  {
   "cell_type": "code",
   "execution_count": 10,
   "id": "46cfea35",
   "metadata": {
    "execution": {
     "iopub.execute_input": "2022-01-24T08:42:52.487395Z",
     "iopub.status.busy": "2022-01-24T08:42:52.485904Z",
     "iopub.status.idle": "2022-01-24T08:42:52.711126Z",
     "shell.execute_reply": "2022-01-24T08:42:52.711529Z",
     "shell.execute_reply.started": "2022-01-24T08:37:53.611752Z"
    },
    "papermill": {
     "duration": 0.249751,
     "end_time": "2022-01-24T08:42:52.711684",
     "exception": false,
     "start_time": "2022-01-24T08:42:52.461933",
     "status": "completed"
    },
    "tags": []
   },
   "outputs": [
    {
     "data": {
      "image/png": "[encoded data removed]",
      "text/plain": [
       "<Figure size 432x288 with 1 Axes>"
      ]
     },
     "metadata": {
      "image/png": {
       "height": 277,
       "width": 373
      },
      "needs_background": "light"
     },
     "output_type": "display_data"
    }
   ],
   "source": [
    "plt.plot(it, lt, 'o-', label='training loss')\n",
    "plt.plot(it, lv, 'o-', label='validation loss')\n",
    "plt.legend()\n",
    "plt.title('losses for CNN')\n",
    "plt.xlabel('epoch')\n",
    "plt.show()"
   ]
  },
  {
   "cell_type": "code",
   "execution_count": 11,
   "id": "9773c93d",
   "metadata": {
    "execution": {
     "iopub.execute_input": "2022-01-24T08:42:52.760446Z",
     "iopub.status.busy": "2022-01-24T08:42:52.759741Z",
     "iopub.status.idle": "2022-01-24T08:42:52.785073Z",
     "shell.execute_reply": "2022-01-24T08:42:52.784481Z",
     "shell.execute_reply.started": "2022-01-24T08:37:53.613689Z"
    },
    "papermill": {
     "duration": 0.051909,
     "end_time": "2022-01-24T08:42:52.785221",
     "exception": false,
     "start_time": "2022-01-24T08:42:52.733312",
     "status": "completed"
    },
    "tags": []
   },
   "outputs": [
    {
     "name": "stdout",
     "output_type": "stream",
     "text": [
      "train accuracy (CNN): 0.7944249510765076\n",
      "val accuracy (CNN): 0.7905000448226929\n"
     ]
    }
   ],
   "source": [
    "# output accuracy\n",
    "y_train_pred = trained_model_cnn(X_train)\n",
    "y_val_pred = trained_model_cnn(X_val)\n",
    "y_test_pred = trained_model_cnn(X_test)\n",
    "\n",
    "print('train accuracy (CNN): ' + str((y_train_pred.argmax(dim=1) == y_train).float().mean().item()))\n",
    "print('val accuracy (CNN): ' + str((y_val_pred.argmax(dim=1) == y_val).float().mean().item()))"
   ]
  },
  {
   "cell_type": "code",
   "execution_count": 12,
   "id": "22cd9be1",
   "metadata": {
    "execution": {
     "iopub.execute_input": "2022-01-24T08:42:52.836321Z",
     "iopub.status.busy": "2022-01-24T08:42:52.835606Z",
     "iopub.status.idle": "2022-01-24T08:42:52.887287Z",
     "shell.execute_reply": "2022-01-24T08:42:52.887721Z",
     "shell.execute_reply.started": "2022-01-24T08:37:53.615543Z"
    },
    "papermill": {
     "duration": 0.079885,
     "end_time": "2022-01-24T08:42:52.887876",
     "exception": false,
     "start_time": "2022-01-24T08:42:52.807991",
     "status": "completed"
    },
    "tags": []
   },
   "outputs": [
    {
     "data": {
      "text/html": [
       "<div>\n",
       "<style scoped>\n",
       "    .dataframe tbody tr th:only-of-type {\n",
       "        vertical-align: middle;\n",
       "    }\n",
       "\n",
       "    .dataframe tbody tr th {\n",
       "        vertical-align: top;\n",
       "    }\n",
       "\n",
       "    .dataframe thead th {\n",
       "        text-align: right;\n",
       "    }\n",
       "</style>\n",
       "<table border=\"1\" class=\"dataframe\">\n",
       "  <thead>\n",
       "    <tr style=\"text-align: right;\">\n",
       "      <th></th>\n",
       "      <th>0</th>\n",
       "    </tr>\n",
       "  </thead>\n",
       "  <tbody>\n",
       "    <tr>\n",
       "      <th>0</th>\n",
       "      <td>2</td>\n",
       "    </tr>\n",
       "    <tr>\n",
       "      <th>1</th>\n",
       "      <td>0</td>\n",
       "    </tr>\n",
       "    <tr>\n",
       "      <th>2</th>\n",
       "      <td>6</td>\n",
       "    </tr>\n",
       "    <tr>\n",
       "      <th>3</th>\n",
       "      <td>9</td>\n",
       "    </tr>\n",
       "    <tr>\n",
       "      <th>4</th>\n",
       "      <td>3</td>\n",
       "    </tr>\n",
       "    <tr>\n",
       "      <th>...</th>\n",
       "      <td>...</td>\n",
       "    </tr>\n",
       "    <tr>\n",
       "      <th>27995</th>\n",
       "      <td>9</td>\n",
       "    </tr>\n",
       "    <tr>\n",
       "      <th>27996</th>\n",
       "      <td>7</td>\n",
       "    </tr>\n",
       "    <tr>\n",
       "      <th>27997</th>\n",
       "      <td>3</td>\n",
       "    </tr>\n",
       "    <tr>\n",
       "      <th>27998</th>\n",
       "      <td>9</td>\n",
       "    </tr>\n",
       "    <tr>\n",
       "      <th>27999</th>\n",
       "      <td>2</td>\n",
       "    </tr>\n",
       "  </tbody>\n",
       "</table>\n",
       "<p>28000 rows × 1 columns</p>\n",
       "</div>"
      ],
      "text/plain": [
       "       0\n",
       "0      2\n",
       "1      0\n",
       "2      6\n",
       "3      9\n",
       "4      3\n",
       "...   ..\n",
       "27995  9\n",
       "27996  7\n",
       "27997  3\n",
       "27998  9\n",
       "27999  2\n",
       "\n",
       "[28000 rows x 1 columns]"
      ]
     },
     "execution_count": 12,
     "metadata": {},
     "output_type": "execute_result"
    }
   ],
   "source": [
    "# save prediction\n",
    "prediction = y_test_pred.argmax(dim=1)\n",
    "\n",
    "# output to csv\n",
    "t_np = prediction.cpu().detach().numpy()\n",
    "df = pd.DataFrame(t_np)\n",
    "df.to_csv(\"/kaggle/working/submission.csv\",index=False)\n",
    "\n",
    "# reload\n",
    "df = pd.read_csv(\"/kaggle/working/submission.csv\")\n",
    "df"
   ]
  },
  {
   "cell_type": "code",
   "execution_count": 13,
   "id": "6bbbc661",
   "metadata": {
    "execution": {
     "iopub.execute_input": "2022-01-24T08:42:52.938095Z",
     "iopub.status.busy": "2022-01-24T08:42:52.937156Z",
     "iopub.status.idle": "2022-01-24T08:42:52.939082Z",
     "shell.execute_reply": "2022-01-24T08:42:52.939535Z",
     "shell.execute_reply.started": "2022-01-24T08:37:53.617446Z"
    },
    "papermill": {
     "duration": 0.029237,
     "end_time": "2022-01-24T08:42:52.939691",
     "exception": false,
     "start_time": "2022-01-24T08:42:52.910454",
     "status": "completed"
    },
    "tags": []
   },
   "outputs": [],
   "source": [
    "\n",
    "# You can write up to 20GB to the current directory (/kaggle/working/) that gets preserved as output when you create a version using \"Save & Run All\" \n",
    "# You can also write temporary files to /kaggle/temp/, but they won't be saved outside of the current session"
   ]
  },
  {
   "cell_type": "code",
   "execution_count": null,
   "id": "afc9c08d",
   "metadata": {
    "papermill": {
     "duration": 0.023244,
     "end_time": "2022-01-24T08:42:52.987113",
     "exception": false,
     "start_time": "2022-01-24T08:42:52.963869",
     "status": "completed"
    },
    "tags": []
   },
   "outputs": [],
   "source": []
  },
  {
   "cell_type": "code",
   "execution_count": null,
   "id": "38aca161",
   "metadata": {
    "papermill": {
     "duration": 0.022326,
     "end_time": "2022-01-24T08:42:53.032201",
     "exception": false,
     "start_time": "2022-01-24T08:42:53.009875",
     "status": "completed"
    },
    "tags": []
   },
   "outputs": [],
   "source": []
  }
 ],
 "metadata": {
  "kernelspec": {
   "display_name": "Python 3",
   "language": "python",
   "name": "python3"
  },
  "language_info": {
   "codemirror_mode": {
    "name": "ipython",
    "version": 3
   },
   "file_extension": ".py",
   "mimetype": "text/x-python",
   "name": "python",
   "nbconvert_exporter": "python",
   "pygments_lexer": "ipython3",
   "version": "3.7.12"
  },
  "papermill": {
   "default_parameters": {},
   "duration": 74.354962,
   "end_time": "2022-01-24T08:42:55.303366",
   "environment_variables": {},
   "exception": null,
   "input_path": "__notebook__.ipynb",
   "output_path": "__notebook__.ipynb",
   "parameters": {},
   "start_time": "2022-01-24T08:41:40.948404",
   "version": "2.3.3"
  }
 },
 "nbformat": 4,
 "nbformat_minor": 5
}
