{
 "cells": [
  {
   "cell_type": "code",
   "execution_count": 1,
   "id": "5cdb50ab",
   "metadata": {
    "_cell_guid": "b1076dfc-b9ad-4769-8c92-a6c4dae69d19",
    "_uuid": "8f2839f25d086af736a60e9eeb907d3b93b6e0e5",
    "execution": {
     "iopub.execute_input": "2022-01-24T07:34:06.888163Z",
     "iopub.status.busy": "2022-01-24T07:34:06.886996Z",
     "iopub.status.idle": "2022-01-24T07:34:06.899772Z",
     "shell.execute_reply": "2022-01-24T07:34:06.900439Z",
     "shell.execute_reply.started": "2022-01-24T07:03:49.045922Z"
    },
    "papermill": {
     "duration": 0.025888,
     "end_time": "2022-01-24T07:34:06.900769",
     "exception": false,
     "start_time": "2022-01-24T07:34:06.874881",
     "status": "completed"
    },
    "tags": []
   },
   "outputs": [
    {
     "name": "stdout",
     "output_type": "stream",
     "text": [
      "/kaggle/input/digit-recognizer/sample_submission.csv\n",
      "/kaggle/input/digit-recognizer/train.csv\n",
      "/kaggle/input/digit-recognizer/test.csv\n"
     ]
    }
   ],
   "source": [
    "# This Python 3 environment comes with many helpful analytics libraries installed\n",
    "# It is defined by the kaggle/python Docker image: https://github.com/kaggle/docker-python\n",
    "# For example, here's several helpful packages to load\n",
    "\n",
    "import numpy as np # linear algebra\n",
    "import pandas as pd # data processing, CSV file I/O (e.g. pd.read_csv)\n",
    "\n",
    "# Input data files are available in the read-only \"../input/\" directory\n",
    "# For example, running this (by clicking run or pressing Shift+Enter) will list all files under the input directory\n",
    "\n",
    "import os\n",
    "for dirname, _, filenames in os.walk('/kaggle/input'):\n",
    "    for filename in filenames:\n",
    "        print(os.path.join(dirname, filename))\n",
    "\n",
    "# You can write up to 20GB to the current directory (/kaggle/working/) that gets preserved as output when you create a version using \"Save & Run All\" \n",
    "# You can also write temporary files to /kaggle/temp/, but they won't be saved outside of the current session"
   ]
  },
  {
   "cell_type": "code",
   "execution_count": 2,
   "id": "5030a87b",
   "metadata": {
    "execution": {
     "iopub.execute_input": "2022-01-24T07:34:06.918651Z",
     "iopub.status.busy": "2022-01-24T07:34:06.918044Z",
     "iopub.status.idle": "2022-01-24T07:34:08.935912Z",
     "shell.execute_reply": "2022-01-24T07:34:08.936416Z",
     "shell.execute_reply.started": "2022-01-24T07:25:55.823865Z"
    },
    "papermill": {
     "duration": 2.028022,
     "end_time": "2022-01-24T07:34:08.936636",
     "exception": false,
     "start_time": "2022-01-24T07:34:06.908614",
     "status": "completed"
    },
    "tags": []
   },
   "outputs": [],
   "source": [
    "import numpy as np\n",
    "import matplotlib.pyplot as plt\n",
    "import pandas as pd\n",
    "import torch\n",
    "from torch.utils.data import Dataset, DataLoader, TensorDataset\n",
    "import torch.nn.functional as F\n",
    "from torch import optim\n",
    "from torch import nn\n",
    "from tqdm import tqdm\n",
    "from sklearn.model_selection import KFold\n",
    "\n",
    "%matplotlib inline\n",
    "%config InlineBackend.figure_format = 'retina'"
   ]
  },
  {
   "cell_type": "code",
   "execution_count": 3,
   "id": "ccada705",
   "metadata": {
    "execution": {
     "iopub.execute_input": "2022-01-24T07:34:08.957279Z",
     "iopub.status.busy": "2022-01-24T07:34:08.956598Z",
     "iopub.status.idle": "2022-01-24T07:34:08.960190Z",
     "shell.execute_reply": "2022-01-24T07:34:08.959594Z",
     "shell.execute_reply.started": "2022-01-24T07:13:37.461460Z"
    },
    "papermill": {
     "duration": 0.016315,
     "end_time": "2022-01-24T07:34:08.960333",
     "exception": false,
     "start_time": "2022-01-24T07:34:08.944018",
     "status": "completed"
    },
    "tags": []
   },
   "outputs": [
    {
     "name": "stdout",
     "output_type": "stream",
     "text": [
      "cpu\n"
     ]
    }
   ],
   "source": [
    "# use GPU!\n",
    "if torch.cuda.is_available():\n",
    "    device = torch.device('cuda:0')\n",
    "else:\n",
    "    device = torch.device('cpu')\n",
    "print(device)"
   ]
  },
  {
   "cell_type": "code",
   "execution_count": 4,
   "id": "44ec6dec",
   "metadata": {
    "execution": {
     "iopub.execute_input": "2022-01-24T07:34:08.985063Z",
     "iopub.status.busy": "2022-01-24T07:34:08.984093Z",
     "iopub.status.idle": "2022-01-24T07:34:14.980684Z",
     "shell.execute_reply": "2022-01-24T07:34:14.981272Z",
     "shell.execute_reply.started": "2022-01-24T07:28:35.807064Z"
    },
    "papermill": {
     "duration": 6.013637,
     "end_time": "2022-01-24T07:34:14.981477",
     "exception": false,
     "start_time": "2022-01-24T07:34:08.967840",
     "status": "completed"
    },
    "tags": []
   },
   "outputs": [
    {
     "name": "stdout",
     "output_type": "stream",
     "text": [
      "torch.Size([35000, 784])\n",
      "torch.Size([7000, 784])\n",
      "torch.Size([28000, 784])\n"
     ]
    }
   ],
   "source": [
    "# read data\n",
    "train = pd.read_csv('/kaggle/input/digit-recognizer/train.csv')\n",
    "test = pd.read_csv('/kaggle/input/digit-recognizer/test.csv')\n",
    "X, y = torch.tensor(train.drop(['label'],axis=1).values), torch.tensor(train['label'].values)\n",
    "X_train, y_train = X[:35000], y[:35000]\n",
    "X_val, y_val = X[35000:], y[35000:]\n",
    "X_test = torch.tensor(test.values)\n",
    "\n",
    "X_train, y_train, X_val, y_val, X_test = X_train.to(device), y_train.to(device), X_val.to(device), y_val.to(device), X_test.to(device)\n",
    "print(X_train.shape)\n",
    "print(X_val.shape)\n",
    "print(X_test.shape)"
   ]
  },
  {
   "cell_type": "code",
   "execution_count": 5,
   "id": "9fb355cb",
   "metadata": {
    "execution": {
     "iopub.execute_input": "2022-01-24T07:34:15.006936Z",
     "iopub.status.busy": "2022-01-24T07:34:15.006280Z",
     "iopub.status.idle": "2022-01-24T07:34:15.009389Z",
     "shell.execute_reply": "2022-01-24T07:34:15.008893Z",
     "shell.execute_reply.started": "2022-01-24T07:31:34.696066Z"
    },
    "papermill": {
     "duration": 0.018726,
     "end_time": "2022-01-24T07:34:15.009545",
     "exception": false,
     "start_time": "2022-01-24T07:34:14.990819",
     "status": "completed"
    },
    "tags": []
   },
   "outputs": [],
   "source": [
    "# build a CNN!\n",
    "class mnist_CNN(nn.Module):\n",
    "    def __init__(self):\n",
    "        super().__init__()\n",
    "        self.conv1 = nn.Conv2d(1, 16, kernel_size=3, stride=2, padding=1)\n",
    "        self.conv2 = nn.Conv2d(16, 16, kernel_size=3, stride=2, padding=1)\n",
    "        self.conv3 = nn.Conv2d(16, 10, kernel_size=3, stride=2, padding=1)\n",
    "    \n",
    "    def forward(self, xb):\n",
    "        xb = xb.view(-1, 1, 28, 28)\n",
    "        xb = F.relu(self.conv1(xb))\n",
    "        xb = F.relu(self.conv2(xb))\n",
    "        xb = F.relu(self.conv3(xb))\n",
    "        xb = F.avg_pool2d(xb, 4)\n",
    "        return xb.view(-1, xb.size(1))"
   ]
  },
  {
   "cell_type": "code",
   "execution_count": 6,
   "id": "c6a4db57",
   "metadata": {
    "execution": {
     "iopub.execute_input": "2022-01-24T07:34:15.035201Z",
     "iopub.status.busy": "2022-01-24T07:34:15.034463Z",
     "iopub.status.idle": "2022-01-24T07:34:15.045579Z",
     "shell.execute_reply": "2022-01-24T07:34:15.044900Z",
     "shell.execute_reply.started": "2022-01-24T07:31:47.677459Z"
    },
    "papermill": {
     "duration": 0.027875,
     "end_time": "2022-01-24T07:34:15.045720",
     "exception": false,
     "start_time": "2022-01-24T07:34:15.017845",
     "status": "completed"
    },
    "tags": []
   },
   "outputs": [],
   "source": [
    "# loss function \n",
    "loss_function = F.cross_entropy\n",
    "\n",
    "# instantiate model\n",
    "model = mnist_CNN()\n",
    "\n",
    "# optimizer for updating weights\n",
    "optimizer = optim.SGD(model.parameters(), lr=0.1, momentum=0.9)"
   ]
  },
  {
   "cell_type": "code",
   "execution_count": null,
   "id": "6c445ac2",
   "metadata": {
    "papermill": {
     "duration": 0.007429,
     "end_time": "2022-01-24T07:34:15.061098",
     "exception": false,
     "start_time": "2022-01-24T07:34:15.053669",
     "status": "completed"
    },
    "tags": []
   },
   "outputs": [],
   "source": []
  }
 ],
 "metadata": {
  "kernelspec": {
   "display_name": "Python 3",
   "language": "python",
   "name": "python3"
  },
  "language_info": {
   "codemirror_mode": {
    "name": "ipython",
    "version": 3
   },
   "file_extension": ".py",
   "mimetype": "text/x-python",
   "name": "python",
   "nbconvert_exporter": "python",
   "pygments_lexer": "ipython3",
   "version": "3.7.12"
  },
  "papermill": {
   "default_parameters": {},
   "duration": 18.396961,
   "end_time": "2022-01-24T07:34:15.879783",
   "environment_variables": {},
   "exception": null,
   "input_path": "__notebook__.ipynb",
   "output_path": "__notebook__.ipynb",
   "parameters": {},
   "start_time": "2022-01-24T07:33:57.482822",
   "version": "2.3.3"
  }
 },
 "nbformat": 4,
 "nbformat_minor": 5
}
